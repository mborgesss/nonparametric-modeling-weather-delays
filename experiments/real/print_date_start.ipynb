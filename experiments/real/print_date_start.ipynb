{
 "cells": [
  {
   "cell_type": "code",
   "execution_count": 1,
   "metadata": {},
   "outputs": [],
   "source": [
    "import plotly.figure_factory as ff\n",
    "from plotly.subplots import make_subplots\n",
    "import plotly.express as px\n",
    "import plotly.graph_objects as go"
   ]
  },
  {
   "cell_type": "markdown",
   "metadata": {},
   "source": [
    "Após selecionar uma estação climática:\n",
    "1. Abrir os limites climáticos (utilizando o mesmo cronograma de by_stations)\n",
    "2. Para cada mes, estimar a duração do projeto e verificar a data real\n",
    "3. Realizar visualizações"
   ]
  },
  {
   "cell_type": "markdown",
   "metadata": {},
   "source": [
    "# libs"
   ]
  },
  {
   "cell_type": "code",
   "execution_count": 2,
   "metadata": {},
   "outputs": [],
   "source": [
    "import pandas as pd \n",
    "import datetime\n",
    "import numpy as np  \n",
    "import time\n",
    "import itertools\n",
    "import random\n",
    "import os\n",
    "import pickle\n",
    "import sys\n",
    "import time\n",
    "from itertools import product\n",
    "from copy import deepcopy\n",
    "from joblib import Parallel, delayed\n",
    "import pickle\n",
    "import plotly.express as px\n",
    "import plotly.offline as py\n",
    "\n",
    "sys.path.append('../..')\n",
    "\n"
   ]
  },
  {
   "cell_type": "code",
   "execution_count": 3,
   "metadata": {},
   "outputs": [],
   "source": [
    "import warnings\n",
    "warnings.filterwarnings(\"ignore\")\n",
    "import pandas as pd \n",
    "import numpy as np  \n",
    "import time\n",
    "import os\n",
    "import pickle\n",
    "import sys\n",
    "import time\n",
    "from itertools import product\n",
    "from numpy import nan\n",
    "\n",
    "sys.path.append('../..')\n",
    "from src.model.true import check_duration\n",
    "from experiments.real.config import *\n",
    "from tqdm import tqdm\n",
    "tasks = list(project_schedule.keys())\n",
    "\n",
    "from joblib import Parallel, delayed\n",
    "import numpy as np\n",
    "import pandas as pd\n",
    "from tqdm import tqdm\n",
    "import datetime\n",
    "import os\n",
    "import sys\n",
    "import time\n",
    "sys.path.append('../..')\n",
    "from src.model.weather_pert import WeatherPert\n",
    "from src.model.two_steps.model import KNN, WeatherGenerator\n",
    "from src.validation.validation import *\n",
    "from experiments.real.config import * \n",
    "import pickle\n",
    "from experiments.real.config import * \n",
    "from tqdm import tqdm"
   ]
  },
  {
   "cell_type": "markdown",
   "metadata": {},
   "source": [
    "# Variaveis globais"
   ]
  },
  {
   "cell_type": "code",
   "execution_count": 28,
   "metadata": {},
   "outputs": [],
   "source": [
    "src_id = str(908 )\n",
    "\n",
    "data_dir = os.path.join('..', '..', 'data','cleaned')\n",
    "src_dir = os.path.join('..', '..', 'data', 'real', 'results_4years', src_id)\n",
    "results_dir = os.path.join('..', '..', 'data', 'real', 'by_task')\n",
    "\n",
    "if not os.path.exists(results_dir): os.mkdir(results_dir)"
   ]
  },
  {
   "cell_type": "code",
   "execution_count": 29,
   "metadata": {},
   "outputs": [
    {
     "data": {
      "text/plain": [
       "{'alpha': 1.0, 'smoothing': 3, 'mc': False, 'cossine': False}"
      ]
     },
     "execution_count": 29,
     "metadata": {},
     "output_type": "execute_result"
    }
   ],
   "source": [
    "loss_type = ''\n",
    "with open(os.path.join(src_dir, 'weather_pert_hpt_best.pickle'), 'rb') as file:\n",
    "    weather_pert_hpt_best = pickle.load(file)['right-tail']\n",
    "weather_pert_hpt_best"
   ]
  },
  {
   "cell_type": "code",
   "execution_count": 30,
   "metadata": {},
   "outputs": [],
   "source": [
    "B = 20_000"
   ]
  },
  {
   "cell_type": "code",
   "execution_count": 31,
   "metadata": {},
   "outputs": [],
   "source": [
    "data = pd.read_csv(os.path.join(data_dir, f\"{src_id}.csv\")).fillna(nan).replace([None], [nan])"
   ]
  },
  {
   "cell_type": "markdown",
   "metadata": {},
   "source": [
    "# 1. Abrir os limites climáticos"
   ]
  },
  {
   "cell_type": "code",
   "execution_count": 32,
   "metadata": {},
   "outputs": [],
   "source": [
    "model = WeatherPert(**weather_pert_hpt_best, column_date='date')\n",
    "model.fit(tasks_conditions=tasks_conditions, data=data[data['date'] < '2019-01-01'])"
   ]
  },
  {
   "cell_type": "code",
   "execution_count": 35,
   "metadata": {},
   "outputs": [],
   "source": [
    "x = list(range(1, 60)) + [59.5] + list(range(60, 366))\n",
    "thetas = model.theta\n",
    "task_rename = {\n",
    "    'earthworks': 'Earthworks',\n",
    "    'concrete': 'Concrete',\n",
    "    'formworks': 'Formworks',\n",
    "    'steelworks': 'Steelworks',\n",
    "    'outdoor': 'Outdoor paintings',\n",
    "    'pavements': 'Pavements'\n",
    "}\n",
    "fig = (\n",
    "    pd.DataFrame([\n",
    "        [x[i], task_rename[task.replace('_1', '')], t]\n",
    "        for j, (task, theta) in enumerate(thetas.items())\n",
    "            if j < len(thetas)/2\n",
    "        for i, t in enumerate(theta)\n",
    "        ], columns = ['Day of the year', 'Task', 'theta']\n",
    "    ).pipe(lambda df: (\n",
    "        px.line(\n",
    "            df, x='Day of the year', y='theta', color='Task',\n",
    "            template=\"simple_white\", # color_discrete_sequence=colors,\n",
    "            #facet_col='fi', facet_col_wrap=2\n",
    "            )\n",
    "    )))\n",
    "fig.update_layout(\n",
    "    yaxis_range=[0,1],\n",
    "    width=800, height=600,\n",
    "    yaxis_title=r'Execution probability',\n",
    "    xaxis_title=r'Day of the year'\n",
    "    )\n",
    "fig.write_image(\"exp_date_start_thetas.pdf\")"
   ]
  },
  {
   "cell_type": "code",
   "execution_count": 36,
   "metadata": {},
   "outputs": [
    {
     "data": {
      "image/png": "[encoded data removed]",
      "text/plain": [
       "<Figure size 600x400 with 1 Axes>"
      ]
     },
     "metadata": {},
     "output_type": "display_data"
    }
   ],
   "source": [
    "import seaborn as sns\n",
    "import matplotlib.pyplot as plt\n",
    "from matplotlib import rcParams\n",
    "from matplotlib.patches import Rectangle\n",
    "\n",
    "df=pd.DataFrame(data=[i for i in range(12)],columns=['year'])\n",
    "table=df['year'].reset_index()\n",
    "fig, ax1 = plt.subplots(figsize=(6,4))\n",
    "sns.barplot(x='index', y='year', data=table, ax=ax1, palette='gist_gray_r')\n",
    "\n",
    "bars = [r for r in ax1.get_children() if type(r)==Rectangle]\n",
    "gray_colors = [c.get_facecolor() for c in bars[:-1]]\n",
    "gray_colors = [f\"rgb({c[0]},{c[1]},{c[2]})\" for c in gray_colors]\n",
    "#gray_colors.sort()"
   ]
  },
  {
   "cell_type": "code",
   "execution_count": 37,
   "metadata": {},
   "outputs": [],
   "source": [
    "import plotly.figure_factory as ff\n",
    "from plotly.subplots import make_subplots\n",
    "import plotly.express as px\n",
    "import plotly.graph_objects as go"
   ]
  },
  {
   "cell_type": "code",
   "execution_count": 38,
   "metadata": {},
   "outputs": [],
   "source": [
    "colors = {\n",
    "    'Janeiro': '#FFE59A',\n",
    "    'Fevereiro': '#F1C231',\n",
    "    'Março': '#BF9002',\n",
    "    'Abril': '#E06666',\n",
    "    'Maio': '#CC0100',\n",
    "    'Junho': '#660000',\n",
    "    'Julho': '#A4C2F4',\n",
    "    'Agosto': '#3C78D8',\n",
    "    'Setembro': '#1C4586',\n",
    "    'Outubro': '#93C47D',\n",
    "    'Novembro': '#38761D',\n",
    "    'Dezembro': '#284E13',\n",
    "}"
   ]
  },
  {
   "cell_type": "code",
   "execution_count": 39,
   "metadata": {},
   "outputs": [],
   "source": [
    "def task_cost(estimate_duration, planned_duration):\n",
    "    return (estimate_duration - planned_duration)**2\n",
    "project_cost = {\n",
    " 'earthworks_1': task_cost,\n",
    " 'concrete_1': task_cost,\n",
    " 'steelworks_1': task_cost,\n",
    " 'formworks_1': task_cost,\n",
    " 'pavements_1': task_cost,\n",
    " 'outdoor_1': task_cost,\n",
    " 'earthworks_2': task_cost,\n",
    " 'concrete_2': task_cost,\n",
    " 'steelworks_2': task_cost,\n",
    " 'formworks_2': task_cost,\n",
    " 'pavements_2': task_cost,\n",
    " 'outdoor_2': task_cost\n",
    " }"
   ]
  },
  {
   "cell_type": "code",
   "execution_count": 41,
   "metadata": {},
   "outputs": [],
   "source": [
    "month_name_english = {\n",
    "    'Janeiro': 'January',\n",
    "    'Fevereiro': 'February',\n",
    "    'Março': 'March',\n",
    "    'Abril': 'April',\n",
    "    'Maio': 'May',\n",
    "    'Junho': 'June',\n",
    "    'Julho': 'July',\n",
    "    'Agosto': 'August',\n",
    "    'Setembro': 'September',\n",
    "    'Outubro': 'October',\n",
    "    'Novembro': 'November',\n",
    "    'Dezembro': 'December',\n",
    "}"
   ]
  },
  {
   "cell_type": "code",
   "execution_count": 44,
   "metadata": {},
   "outputs": [],
   "source": [
    "year = '2019'\n",
    "months = list(range(1, 13))\n",
    "\n",
    "point_no_sig = 'rgb(96,96,96)'\n",
    "point_sig = 'rgb(0,0,0)'\n",
    "identity = 'red'\n",
    "\n",
    "names = [\n",
    "    'Janeiro',  'Fevereiro',  'Março',  'Abril', \n",
    "    'Maio',  'Junho',  'Julho',  'Agosto', \n",
    "    'Setembro',  'Outubro', 'Novembro', 'Dezembro'\n",
    "    ]\n",
    "\n",
    "fig = make_subplots(rows=2, cols=1, row_heights=[0.8, 0.2], shared_xaxes=True)\n",
    "result = pd.DataFrame()\n",
    "for month in months:\n",
    "    i = month - 1\n",
    "    month_name = names[i]\n",
    "    color = colors[month_name]\n",
    "    date = f\"{year}-{str(month).zfill(2)}-01\"\n",
    "    estimate = model.predict(date_start=date, project_schedule=project_schedule)\n",
    "    observed = check_duration(\n",
    "        data=data, date_start=date, project_schedule=project_schedule,\n",
    "        tasks_conditions=tasks_conditions)\n",
    "    result = pd.concat([result, pd.DataFrame([{\n",
    "        'month': month,\n",
    "        'mean': round(np.mean(estimate), 1), 'std': round(np.std(estimate), 1),\n",
    "        'q5': int(np.quantile(estimate, .05)),\n",
    "        'q25': int(np.quantile(estimate, .25)),\n",
    "        'q50': int(np.quantile(estimate, .50)),\n",
    "        'q75': int(np.quantile(estimate, .75)),\n",
    "        'q95': int(np.quantile(estimate, .95)),\n",
    "        }])])\n",
    "    fig_ = go.Box(\n",
    "        x=[observed], \n",
    "        marker_symbol='line-ns-open', \n",
    "        marker_color='rgba(255,255,255,0)',\n",
    "        boxpoints='all',\n",
    "        jitter=0,\n",
    "        fillcolor=color,#gray_colors[i],\n",
    "        line_color=color,#gray_colors[i],\n",
    "        #hoveron='points',\n",
    "        name='Observado'\n",
    "        )\n",
    "    fig_.update(showlegend=False)\n",
    "    fig.add_trace(fig_, row=2, col=1)\n",
    "\n",
    "    counter = Counter(estimate)\n",
    "    n = sum(counter.values())\n",
    "    x = list(range(min(counter.keys()), max(counter.keys())+1))\n",
    "    y = [counter[x_i]/n for x_i in x]\n",
    "\n",
    "    dist_plot = ff.create_distplot(\n",
    "        [estimate],\n",
    "        group_labels = [month_name_english[month_name]], \n",
    "        show_hist=False)\n",
    "    #fig.add_trace(go.Scatter(\n",
    "    #    dist_plot['data'][0],\n",
    "    #    line=dict(color=gray_colors[i], width=2)\n",
    "    #    ), row=1, col=1)\n",
    "    \n",
    "    # interpolando valores\n",
    "    # Valores inteiros de x que queremos interpolar\n",
    "    x_density = dist_plot['data'][0].x\n",
    "    y_density = dist_plot['data'][0].y\n",
    "    x_int = np.arange(np.ceil(x_density[0]), np.floor(x_density[-1]) + 1)\n",
    "\n",
    "    # Interpolação linear para encontrar os valores de y correspondentes aos valores inteiros de x\n",
    "    y_int = np.interp(x_int, x_density, y_density)\n",
    "\n",
    "\n",
    "\n",
    "    #counter = Counter(estimate)\n",
    "    #n = sum(counter.values())\n",
    "    #x = list(range(min(counter.keys()), max(counter.keys())+1))\n",
    "    #y = [counter[x_i]/n for x_i in x]\n",
    "#\n",
    "    fig.add_trace(go.Scatter(\n",
    "        x=x_int, y=y_int,\n",
    "        mode='lines+markers',\n",
    "        line=dict(width=1, color=color),#gray_colors[i]),\n",
    "        marker=dict(size=3, color=color),#gray_colors[i])\n",
    "        name=month_name_english[month_name]\n",
    "        ), row=1, col=1)\n",
    "    \n",
    "\n",
    "fig.update_layout(\n",
    "    # xaxis_title='Tempo de execução (dias)',\n",
    "    # yaxis_title='$Z$',\n",
    "    template = \"simple_white\",\n",
    "    width=800, height=600,\n",
    "    legend_title_text='Month'\n",
    "    )\n",
    "fig.update_xaxes(title_text='Execution time (days)', row=2, col=1)\n",
    "fig.update_yaxes(title_text='Probability', row=1, col=1)\n",
    "fig.write_image('exp_date_start_dist.pdf')"
   ]
  },
  {
   "cell_type": "code",
   "execution_count": 45,
   "metadata": {},
   "outputs": [
    {
     "name": "stdout",
     "output_type": "stream",
     "text": [
      "|   month |   mean |   std |   q5 |   q25 |   q50 |   q75 |   q95 |\n",
      "|--------:|-------:|------:|-----:|------:|------:|------:|------:|\n",
      "|       1 |  276.7 |  15.4 |  254 |   266 |   276 |   286 |   305 |\n",
      "|       2 |  262.6 |  18.9 |  236 |   250 |   259 |   273 |   298 |\n",
      "|       3 |  257.5 |  21.4 |  226 |   241 |   257 |   272 |   290 |\n",
      "|       4 |  270.1 |  23.7 |  237 |   253 |   266 |   285 |   313 |\n",
      "|       5 |  294.9 |  23   |  258 |   279 |   294 |   311 |   333 |\n",
      "|       6 |  310.8 |  15.5 |  285 |   301 |   311 |   322 |   334 |\n",
      "|       7 |  318   |  14.4 |  292 |   308 |   318 |   329 |   340 |\n",
      "|       8 |  315.3 |  11   |  297 |   308 |   315 |   322 |   333 |\n",
      "|       9 |  311.6 |  13.2 |  292 |   302 |   311 |   320 |   334 |\n",
      "|      10 |  309.4 |  13.5 |  288 |   300 |   309 |   319 |   331 |\n",
      "|      11 |  303.5 |  15.2 |  279 |   294 |   303 |   314 |   330 |\n",
      "|      12 |  294   |  14.5 |  271 |   284 |   293 |   302 |   319 |\n"
     ]
    }
   ],
   "source": [
    "print(result.to_markdown(index=False))"
   ]
  },
  {
   "cell_type": "code",
   "execution_count": 22,
   "metadata": {},
   "outputs": [],
   "source": [
    "year = '2019'\n",
    "months = list(range(1, 13))\n",
    "\n",
    "point_no_sig = 'rgb(96,96,96)'\n",
    "point_sig = 'rgb(0,0,0)'\n",
    "identity = 'red'\n",
    "\n",
    "names = [\n",
    "    'Janeiro',  'Fevereiro',  'Março',  'Abril', \n",
    "    'Maio',  'Junho',  'Julho',  'Agosto', \n",
    "    'Setembro',  'Outubro', 'Novembro', 'Dezembro'\n",
    "    ]\n",
    "\n",
    "fig = go.Figure()\n",
    "\n",
    "for month in months:\n",
    "    i = month - 1\n",
    "    month_name = names[i]\n",
    "    color = colors[month_name]\n",
    "    date = f\"{year}-{str(month).zfill(2)}-01\"\n",
    "    cost = model.predict(date_start=date, project_schedule=project_schedule, project_cost=project_cost)['costs']\n",
    "    dist_plot = ff.create_distplot(\n",
    "        [cost],\n",
    "        group_labels = [month_name], \n",
    "        show_hist=False)\n",
    "    # interpolando valores\n",
    "    # Valores inteiros de x que queremos interpolar\n",
    "    x_density = dist_plot['data'][0].x\n",
    "    y_density = dist_plot['data'][0].y\n",
    "    fig.add_trace(go.Scatter(\n",
    "        x=x_density, y=y_density,\n",
    "        mode='lines',\n",
    "        line=dict(width=1, color=color),#gray_colors[i]),\n",
    "        marker=dict(size=3, color=color),#gray_colors[i])\n",
    "        name=month_name\n",
    "        ), row=1, col=1)\n",
    "    \n",
    "\n",
    "fig.update_layout(\n",
    "    template = \"simple_white\",\n",
    "    width=800, height=600\n",
    "    )\n",
    "fig.update_xaxes(title_text='Tempo de execução (dias)')\n",
    "fig.update_yaxes(title_text='Custo')\n",
    "fig.write_image('exp_date_start_cost_dist.pdf')"
   ]
  },
  {
   "cell_type": "code",
   "execution_count": 27,
   "metadata": {},
   "outputs": [
    {
     "ename": "TypeError",
     "evalue": "'int' object is not subscriptable",
     "output_type": "error",
     "traceback": [
      "\u001b[1;31m---------------------------------------------------------------------------\u001b[0m",
      "\u001b[1;31mTypeError\u001b[0m                                 Traceback (most recent call last)",
      "Cell \u001b[1;32mIn[27], line 4\u001b[0m\n\u001b[0;32m      1\u001b[0m \u001b[38;5;28;01mfor\u001b[39;00m i, month \u001b[38;5;129;01min\u001b[39;00m \u001b[38;5;28menumerate\u001b[39m(\u001b[38;5;28mrange\u001b[39m(\u001b[38;5;241m1\u001b[39m, \u001b[38;5;241m13\u001b[39m)):\n\u001b[0;32m      2\u001b[0m     month \u001b[38;5;241m=\u001b[39m \u001b[38;5;28mstr\u001b[39m(month)\u001b[38;5;241m.\u001b[39mzfill(\u001b[38;5;241m2\u001b[39m)\n\u001b[0;32m      3\u001b[0m     fig_ \u001b[38;5;241m=\u001b[39m go\u001b[38;5;241m.\u001b[39mBox(\n\u001b[1;32m----> 4\u001b[0m         x\u001b[38;5;241m=\u001b[39m[\u001b[43mobserved\u001b[49m\u001b[43m[\u001b[49m\u001b[43mmonth\u001b[49m\u001b[43m]\u001b[49m], \n\u001b[0;32m      5\u001b[0m         marker_symbol\u001b[38;5;241m=\u001b[39m\u001b[38;5;124m'\u001b[39m\u001b[38;5;124mline-ns-open\u001b[39m\u001b[38;5;124m'\u001b[39m, \n\u001b[0;32m      6\u001b[0m         marker_color\u001b[38;5;241m=\u001b[39m\u001b[38;5;124m'\u001b[39m\u001b[38;5;124mrgba(255,255,255,0)\u001b[39m\u001b[38;5;124m'\u001b[39m,\n\u001b[0;32m      7\u001b[0m         boxpoints\u001b[38;5;241m=\u001b[39m\u001b[38;5;124m'\u001b[39m\u001b[38;5;124mall\u001b[39m\u001b[38;5;124m'\u001b[39m,\n\u001b[0;32m      8\u001b[0m         jitter\u001b[38;5;241m=\u001b[39m\u001b[38;5;241m0\u001b[39m,\n\u001b[0;32m      9\u001b[0m         fillcolor\u001b[38;5;241m=\u001b[39mgray_colors[i],\n\u001b[0;32m     10\u001b[0m         line_color\u001b[38;5;241m=\u001b[39mgray_colors[i],\n\u001b[0;32m     11\u001b[0m         \u001b[38;5;66;03m#hoveron='points',\u001b[39;00m\n\u001b[0;32m     12\u001b[0m         name\u001b[38;5;241m=\u001b[39m\u001b[38;5;124m'\u001b[39m\u001b[38;5;124mObservado\u001b[39m\u001b[38;5;124m'\u001b[39m\n\u001b[0;32m     13\u001b[0m         )\n\u001b[0;32m     14\u001b[0m     fig_\u001b[38;5;241m.\u001b[39mupdate(showlegend\u001b[38;5;241m=\u001b[39m\u001b[38;5;28;01mFalse\u001b[39;00m)\n\u001b[0;32m     15\u001b[0m     fig\u001b[38;5;241m.\u001b[39madd_trace(fig_, row\u001b[38;5;241m=\u001b[39m\u001b[38;5;241m2\u001b[39m, col\u001b[38;5;241m=\u001b[39m\u001b[38;5;241m1\u001b[39m)\n",
      "\u001b[1;31mTypeError\u001b[0m: 'int' object is not subscriptable"
     ]
    }
   ],
   "source": [
    "\n",
    "for i, month in enumerate(range(1, 13)):\n",
    "    month = str(month).zfill(2)\n",
    "    fig_ = go.Box(\n",
    "        x=[observed[month]], \n",
    "        marker_symbol='line-ns-open', \n",
    "        marker_color='rgba(255,255,255,0)',\n",
    "        boxpoints='all',\n",
    "        jitter=0,\n",
    "        fillcolor=gray_colors[i],\n",
    "        line_color=gray_colors[i],\n",
    "        #hoveron='points',\n",
    "        name='Observado'\n",
    "        )\n",
    "    fig_.update(showlegend=False)\n",
    "    fig.add_trace(fig_, row=2, col=1)\n",
    "    dist_plot = ff.create_distplot(\n",
    "        [estimate[month]],\n",
    "        group_labels = [names[i]], \n",
    "        show_hist=False)\n",
    "    fig.add_trace(go.Scatter(\n",
    "        dist_plot['data'][0],\n",
    "        line=dict(color=gray_colors[i], width=2)\n",
    "        ), row=1, col=1)\n",
    "fig.update_layout(\n",
    "    # xaxis_title='Tempo de execução (dias)',\n",
    "    # yaxis_title='$Z$',\n",
    "    template = \"simple_white\",\n",
    "    width=800, height=600\n",
    "    )\n",
    "fig.update_xaxes(title_text='Tempo de execução (dias)', row=2, col=1)\n",
    "fig.update_yaxes(title_text='$Z$', row=1, col=1)\n",
    "plot_url = py.plot(fig, filename='latex', include_mathjax='cdn')"
   ]
  }
 ],
 "metadata": {
  "kernelspec": {
   "display_name": "venv",
   "language": "python",
   "name": "python3"
  },
  "language_info": {
   "codemirror_mode": {
    "name": "ipython",
    "version": 3
   },
   "file_extension": ".py",
   "mimetype": "text/x-python",
   "name": "python",
   "nbconvert_exporter": "python",
   "pygments_lexer": "ipython3",
   "version": "3.8.10"
  }
 },
 "nbformat": 4,
 "nbformat_minor": 2
}
