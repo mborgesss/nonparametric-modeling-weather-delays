{
 "cells": [
  {
   "cell_type": "markdown",
   "metadata": {},
   "source": [
    "# libs"
   ]
  },
  {
   "cell_type": "code",
   "execution_count": 1,
   "metadata": {},
   "outputs": [],
   "source": [
    "from scipy.stats import nbinom, binom, betabinom\n",
    "import matplotlib.pyplot as plt\n",
    "import pandas as pd\n",
    "import plotly.express as px\n",
    "\n",
    "import plotly.express as px\n",
    "import plotly.figure_factory as ff\n",
    "from plotly.subplots import make_subplots\n",
    "import plotly.express as px\n",
    "import plotly.graph_objects as go\n",
    "import plotly.express as px\n",
    "import plotly.offline as py\n",
    "from plotly.subplots import make_subplots\n",
    "import pandas as pd\n",
    "from collections import Counter\n",
    "import scipy.integrate as it\n",
    "import numpy as np\n",
    "import time \n",
    "\n"
   ]
  },
  {
   "cell_type": "markdown",
   "metadata": {},
   "source": [
    "# Variaveis"
   ]
  },
  {
   "cell_type": "code",
   "execution_count": 2,
   "metadata": {},
   "outputs": [],
   "source": [
    "n = 100\n",
    "observed = 50\n",
    "Experimento = {\n",
    "    'Grupo 1': {\n",
    "        'Modelo 1': {'K': 0, 'a': 400, 'b': 400},\n",
    "        'Modelo 2': {'K': 0, 'a': 50, 'b': 50},\n",
    "        'Modelo 3': {'K': 0, 'a': 20, 'b': 20}\n",
    "    },\n",
    "    'Grupo 2': {\n",
    "        'Modelo 1': {'K': 0, 'a': 8, 'b': 11},\n",
    "        'Modelo 2': {'K': 0, 'a': 11, 'b': 8}\n",
    "    },\n",
    "    'Grupo 3': {\n",
    "        'Modelo 1': {'K': 0, 'a': 25, 'b': 25},\n",
    "        'Modelo 2': {'K': 5, 'a': 25, 'b': 25},\n",
    "        'Modelo 3': {'K': 10, 'a': 25, 'b': 25},\n",
    "        'Modelo 4': {'K': 15, 'a': 25, 'b': 25}\n",
    "    },\n",
    "    'Grupo 4': {\n",
    "        'Modelo 1': {'K': 0,  'a': 25, 'b': 25},\n",
    "        'Modelo 2': {'K': 40, 'a': 25, 'b': 25},\n",
    "        'Modelo 3': {'K': 60, 'a': 25, 'b': 25}\n",
    "    },\n",
    "}\n"
   ]
  },
  {
   "cell_type": "code",
   "execution_count": 3,
   "metadata": {},
   "outputs": [],
   "source": [
    "def pinball_loss(observed, estimate, alpha):\n",
    "    if observed >= estimate: \n",
    "        result = (observed-estimate)*alpha\n",
    "    else:\n",
    "        result = (estimate-observed)*(1-alpha)\n",
    "    return result\n",
    "\n",
    "alphas = np.linspace(0, 1, 1_000)\n",
    "\n",
    "weighting_function = {\n",
    "    \"two-tailed\": (alphas-.5)**2,\n",
    "    \"left-tail\": (1-alphas)**2,\n",
    "    \"right-tail\": (alphas)**2,\n",
    "    \"sem peso\": np.ones(len(alphas)),\n",
    "}"
   ]
  },
  {
   "cell_type": "markdown",
   "metadata": {},
   "source": [
    "# Gerando distribuições"
   ]
  },
  {
   "cell_type": "code",
   "execution_count": 4,
   "metadata": {},
   "outputs": [],
   "source": [
    "resultados = []\n",
    "df_densidade = pd.DataFrame()\n",
    "for nome, grupo in Experimento.items():\n",
    "    max_x = n + max([param['K'] for param in grupo.values()])\n",
    "    for modelo, param in grupo.items():\n",
    "        resultado = {'grupo': nome, 'modelo': modelo, **param}\n",
    "        resultado['n'] = n\n",
    "        r = param.copy()\n",
    "        Z = betabinom(n=n, a=param['a'], b=param['b'])\n",
    "        # salvando distribuição\n",
    "        x = list(range(0, max_x))\n",
    "        y = Z.pmf(x)\n",
    "        x = [x_i + param['K'] for x_i in x]\n",
    "        p_z = {x_i: y_i for x_i, y_i in zip(x, y)}\n",
    "        df_modelo = pd.DataFrame({'x': x, 'y': y}).assign(modelo=modelo, grupo=nome)\n",
    "        df_modelo = df_modelo.loc[lambda df: df['y'] > 0]\n",
    "        df_densidade = pd.concat([df_densidade,df_modelo])\n",
    "        # calculando densidade\n",
    "        L =  - 2*p_z.get(observed, 0)\n",
    "        for z, p in p_z.items():\n",
    "            L += (p**2)/len(p_z)\n",
    "        resultado['Densidade'] = L\n",
    "        # calculando perdas pinball\n",
    "        L_alpha = [\n",
    "            pinball_loss(\n",
    "                observed = observed, \n",
    "                estimate = (Z.ppf(a) + param.get('K', 0)), \n",
    "                alpha=a\n",
    "                ) \n",
    "            for a in alphas]\n",
    "        for name, weight in weighting_function.items():\n",
    "            resultado[name] = it.simps(weight*L_alpha, alphas)\n",
    "        # calculando MSE\n",
    "        resultado['MSE'] = (observed-Z.mean()+param.get('K', 0))**2\n",
    "        # salvando resultados\n",
    "        resultados.append(resultado)\n"
   ]
  },
  {
   "cell_type": "code",
   "execution_count": 15,
   "metadata": {},
   "outputs": [],
   "source": [
    "fig = make_subplots(\n",
    "    rows=2, cols=2, shared_xaxes=False, shared_yaxes=False,\n",
    "    subplot_titles=['(a)', '(b)', '(c)', '(d)'])\n",
    "\n",
    "plots = {\n",
    "    'Grupo 1': {'row': 1, 'col': 1},\n",
    "    'Grupo 2': {'row': 1, 'col': 2},\n",
    "    'Grupo 3': {'row': 2, 'col': 1},\n",
    "    'Grupo 4': {'row': 2, 'col': 2},\n",
    "}\n",
    "colors = ['#1F78B4', '#FE7F0E', '#2BA02D', '#C03D3E']\n",
    "\n",
    "for grupo, axis in plots.items():\n",
    "    df_grupo = df_densidade.loc[lambda df: df['grupo'] == grupo]\n",
    "    max_y = df_grupo['y'].max()\n",
    "    max_x = n + max([param['K'] for param in Experimento[grupo].values()])\n",
    "    for i, modelo in enumerate(df_grupo['modelo'].unique()):\n",
    "        df_modelo = df_grupo.loc[lambda df: df['modelo'] == modelo]\n",
    "        fig_ = go.Scatter(\n",
    "            x=df_modelo['x'], y=df_modelo['y']*100,\n",
    "            mode='lines+markers', \n",
    "            line=dict(color=colors[i], width=1),\n",
    "            marker=dict(color=colors[i], size=4),\n",
    "            name=modelo,\n",
    "            )\n",
    "        if grupo != 'Grupo 3':\n",
    "            fig_.update(showlegend=False)\n",
    "        fig.add_trace(fig_,  **axis)\n",
    "    fig_ = go.Scatter(\n",
    "        x=[observed, observed], \n",
    "        y=[0,max_y*100], \n",
    "        mode='lines', \n",
    "        line=dict(color='black', width=2, dash='dash'),\n",
    "        name='Observado'\n",
    "        )\n",
    "\n",
    "    if grupo != 'Grupo 3':\n",
    "        fig_.update(showlegend=False)\n",
    "    fig.add_trace(fig_, **axis)\n",
    "\n",
    "    fig.update_xaxes(range=[0, max_x], **axis)\n",
    "\n",
    "\n",
    "fig.update_layout(\n",
    "    template = \"simple_white\",\n",
    "    #width=800, height=800\n",
    "    )\n",
    "\n",
    "fig.update_xaxes(title_text='Tempo de execução do projeto (dias)', row=2, col=1)\n",
    "fig.update_xaxes(title_text='Tempo de execução do projeto (dias)', row=2, col=2)\n",
    "fig.update_yaxes(title_text='Probabilidade (%)', row=1, col=1)\n",
    "fig.update_yaxes(title_text='Probabilidade (%)', row=2, col=1)\n",
    "\n",
    "plot_url = py.plot(fig, filename='latex', include_mathjax='cdn')"
   ]
  },
  {
   "cell_type": "code",
   "execution_count": 6,
   "metadata": {},
   "outputs": [
    {
     "name": "stdout",
     "output_type": "stream",
     "text": [
      "Grupo & Modelo & K & n & a & b & MSE & Densidade & Sem peso & Duas caudas & Cauda esquerda & Cauda direita \\\\\n",
      "Grupo 1 & Modelo 1 & 0 & 100 & 400 & 400 & 0 & -0.150 & 0.62 & 0.05 & 0.20 & 0.20 \\\\\n",
      "Grupo 1 & Modelo 2 & 0 & 100 & 50 & 50 & 0 & -0.112 & 0.82 & 0.07 & 0.27 & 0.27 \\\\\n",
      "Grupo 1 & Modelo 3 & 0 & 100 & 20 & 20 & 0 & -0.084 & 1.09 & 0.09 & 0.36 & 0.36 \\\\\n",
      "Grupo 2 & Modelo 1 & 0 & 100 & 8 & 11 & 62 & -0.051 & 2.47 & 0.13 & 0.99 & 0.50 \\\\\n",
      "Grupo 2 & Modelo 2 & 0 & 100 & 11 & 8 & 62 & -0.051 & 2.47 & 0.13 & 0.50 & 0.99 \\\\\n",
      "Grupo 3 & Modelo 1 & 0 & 100 & 25 & 25 & 0 & -0.091 & 1.01 & 0.08 & 0.34 & 0.34 \\\\\n",
      "Grupo 3 & Modelo 2 & 5 & 100 & 25 & 25 & 25 & -0.078 & 1.57 & 0.09 & 0.31 & 0.65 \\\\\n",
      "Grupo 3 & Modelo 3 & 10 & 100 & 25 & 25 & 100 & -0.048 & 3.09 & 0.14 & 0.77 & 1.05 \\\\\n",
      "Grupo 3 & Modelo 4 & 15 & 100 & 25 & 25 & 225 & -0.021 & 5.21 & 0.26 & 1.67 & 1.46 \\\\\n",
      "Grupo 4 & Modelo 1 & 0 & 100 & 25 & 25 & 0 & -0.091 & 1.01 & 0.08 & 0.34 & 0.34 \\\\\n",
      "Grupo 4 & Modelo 2 & 40 & 100 & 25 & 25 & 1600 & 0.000 & 17.57 & 1.27 & 7.79 & 3.55 \\\\\n",
      "Grupo 4 & Modelo 3 & 60 & 100 & 25 & 25 & 3600 & 0.000 & 27.57 & 2.11 & 12.78 & 5.21 \\\\\n"
     ]
    }
   ],
   "source": [
    "print(f\"Grupo & Modelo & K & n & a & b & MSE & Densidade & Sem peso & Duas caudas & Cauda esquerda & Cauda direita \\\\\\\\\")\n",
    "for resultado in resultados:\n",
    "    print(f\"{resultado['grupo']} & {resultado['modelo']} & {resultado['K']} & {n} & {resultado['a']} & {resultado['b']} & {resultado['MSE']:.0f} & {resultado['Densidade']:.3f} & {resultado['sem peso']:.2f} & {resultado['two-tailed']:.2f} & {resultado['left-tail']:.2f} & {resultado['right-tail']:.2f} \\\\\\\\\")"
   ]
  }
 ],
 "metadata": {
  "kernelspec": {
   "display_name": "Python 3.8.10 64-bit",
   "language": "python",
   "name": "python3"
  },
  "language_info": {
   "codemirror_mode": {
    "name": "ipython",
    "version": 3
   },
   "file_extension": ".py",
   "mimetype": "text/x-python",
   "name": "python",
   "nbconvert_exporter": "python",
   "pygments_lexer": "ipython3",
   "version": "3.8.10"
  },
  "orig_nbformat": 4,
  "vscode": {
   "interpreter": {
    "hash": "bec55ed04ec5d84d21872d8db38728f403e6b9f7bdd1a1558c9c21786588a423"
   }
  }
 },
 "nbformat": 4,
 "nbformat_minor": 2
}
